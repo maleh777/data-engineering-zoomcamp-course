{
 "cells": [
  {
   "cell_type": "code",
   "execution_count": null,
   "id": "ff130aec-0fe2-4015-ab55-19a5c9d81ed7",
   "metadata": {},
   "outputs": [],
   "source": [
    "import os\n",
    "import argparse\n",
    "\n",
    "from time import time\n",
    "\n",
    "import pandas as pd\n",
    "from sqlalchemy import create_engine\n",
    "\n",
    "def main(params):\n",
    "    user = params.user\n",
    "    password = params.password\n",
    "    host = params.host \n",
    "    port = params.port \n",
    "    db = params.db\n",
    "    table_name = params.table_name\n",
    "    parquet_file = params.parquet_file\n",
    "\n",
    "    engine = create_engine(f'postgresql://{user}:{password}@{host}:{port}/{db}')\n",
    "\n",
    "    df = pd.read_parquet(parquet_file)\n",
    "\n",
    "    df.tpep_pickup_datetime = pd.to_datetime(df.tpep_pickup_datetime)\n",
    "    df.tpep_dropoff_datetime = pd.to_datetime(df.tpep_dropoff_datetime)\n",
    "\n",
    "    t_start = time()\n",
    "    df.to_sql(name=table_name, con=engine, if_exists='replace', index=False)\n",
    "    t_end = time()\n",
    "\n",
    "    print(f\"Finished ingesting data into the postgres database. Took {t_end - t_start:.3f} seconds\")\n",
    "\n",
    "\n",
    "if __name__ == '__main__':\n",
    "    parser = argparse.ArgumentParser(description='Ingest Parquet data to Postgres')\n",
    "\n",
    "    parser.add_argument('--user', required=True, help='user name for postgres')\n",
    "    parser.add_argument('--password', required=True, help='password for postgres')\n",
    "    parser.add_argument('--host', required=True, help='host for postgres')\n",
    "    parser.add_argument('--port', required=True, help='port for postgres')\n",
    "    parser.add_argument('--db', required=True, help='database name for postgres')\n",
    "    parser.add_argument('--table_name', required=True, help='name of the table where we will write the results to')\n",
    "    parser.add_argument('--parquet_file', required=True, help='path to the parquet file')\n",
    "\n",
    "    args = parser.parse_args()\n",
    "\n",
    "    main(args)"
   ]
  }
 ],
 "metadata": {
  "kernelspec": {
   "display_name": "Python [conda env:base] *",
   "language": "python",
   "name": "conda-base-py"
  },
  "language_info": {
   "codemirror_mode": {
    "name": "ipython",
    "version": 3
   },
   "file_extension": ".py",
   "mimetype": "text/x-python",
   "name": "python",
   "nbconvert_exporter": "python",
   "pygments_lexer": "ipython3",
   "version": "3.12.7"
  }
 },
 "nbformat": 4,
 "nbformat_minor": 5
}
